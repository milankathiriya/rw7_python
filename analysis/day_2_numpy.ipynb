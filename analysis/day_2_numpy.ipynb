{
 "cells": [
  {
   "cell_type": "code",
   "execution_count": null,
   "id": "fdceeef4",
   "metadata": {},
   "outputs": [],
   "source": [
    "import numpy as np"
   ]
  },
  {
   "cell_type": "markdown",
   "id": "9fc1885b",
   "metadata": {},
   "source": [
    "#### Mathematial Operations"
   ]
  },
  {
   "cell_type": "code",
   "execution_count": null,
   "id": "c1398775",
   "metadata": {},
   "outputs": [],
   "source": [
    "a1 = np.array([1,8,6,7,9])\n",
    "a1"
   ]
  },
  {
   "cell_type": "code",
   "execution_count": null,
   "id": "c3d76902",
   "metadata": {},
   "outputs": [],
   "source": [
    "a2 = np.array([2, 8, 7, 6, 3])\n",
    "a2"
   ]
  },
  {
   "cell_type": "code",
   "execution_count": null,
   "id": "b622e0d4",
   "metadata": {},
   "outputs": [],
   "source": [
    "a1 + a2"
   ]
  },
  {
   "cell_type": "code",
   "execution_count": null,
   "id": "63af9688",
   "metadata": {},
   "outputs": [],
   "source": [
    "a1 - a2"
   ]
  },
  {
   "cell_type": "code",
   "execution_count": null,
   "id": "82a4efdd",
   "metadata": {},
   "outputs": [],
   "source": [
    "a1 * a2"
   ]
  },
  {
   "cell_type": "code",
   "execution_count": null,
   "id": "9beeadcb",
   "metadata": {},
   "outputs": [],
   "source": [
    "a1 / a2"
   ]
  },
  {
   "cell_type": "code",
   "execution_count": null,
   "id": "6733dae3",
   "metadata": {},
   "outputs": [],
   "source": [
    "ans = a1 ** 2\n",
    "ans"
   ]
  },
  {
   "cell_type": "code",
   "execution_count": null,
   "id": "a0c43e92",
   "metadata": {},
   "outputs": [],
   "source": [
    "np.sqrt(ans)"
   ]
  },
  {
   "cell_type": "code",
   "execution_count": null,
   "id": "a54a01c0",
   "metadata": {},
   "outputs": [],
   "source": [
    "a3 = np.array([1.2, 2.5, 3.7, 4.9])\n",
    "a3"
   ]
  },
  {
   "cell_type": "code",
   "execution_count": null,
   "id": "4d52380c",
   "metadata": {},
   "outputs": [],
   "source": [
    "np.floor(a3)"
   ]
  },
  {
   "cell_type": "code",
   "execution_count": null,
   "id": "ba15aaee",
   "metadata": {},
   "outputs": [],
   "source": [
    "np.ceil(a3)"
   ]
  },
  {
   "cell_type": "code",
   "execution_count": null,
   "id": "fa0645cd",
   "metadata": {},
   "outputs": [],
   "source": [
    "np.round(a3)"
   ]
  },
  {
   "cell_type": "markdown",
   "id": "1d93f635",
   "metadata": {},
   "source": [
    "#### Combining Arrays"
   ]
  },
  {
   "cell_type": "code",
   "execution_count": null,
   "id": "ca5b3076",
   "metadata": {},
   "outputs": [],
   "source": [
    "a1"
   ]
  },
  {
   "cell_type": "code",
   "execution_count": null,
   "id": "c4210156",
   "metadata": {},
   "outputs": [],
   "source": [
    "a2"
   ]
  },
  {
   "cell_type": "code",
   "execution_count": null,
   "id": "147097e3",
   "metadata": {},
   "outputs": [],
   "source": [
    "np.concatenate((a1, a2))"
   ]
  },
  {
   "cell_type": "code",
   "execution_count": null,
   "id": "65d245f2",
   "metadata": {},
   "outputs": [],
   "source": [
    "arr1 = np.array([[3, 5, 7], [1, 2, 9], [4, 6, 8]])\n",
    "arr2 = np.array([[1, 2, 3], [4, 5, 6], [7, 8, 9]])"
   ]
  },
  {
   "cell_type": "code",
   "execution_count": null,
   "id": "04b0598a",
   "metadata": {},
   "outputs": [],
   "source": [
    "print(arr1)"
   ]
  },
  {
   "cell_type": "code",
   "execution_count": null,
   "id": "c28e041f",
   "metadata": {},
   "outputs": [],
   "source": [
    "print(arr2)"
   ]
  },
  {
   "cell_type": "code",
   "execution_count": null,
   "id": "b24b44ab",
   "metadata": {},
   "outputs": [],
   "source": [
    "np.vstack((arr1, arr2))"
   ]
  },
  {
   "cell_type": "code",
   "execution_count": null,
   "id": "d84ea022",
   "metadata": {},
   "outputs": [],
   "source": [
    "np.hstack((arr1, arr2))"
   ]
  },
  {
   "cell_type": "code",
   "execution_count": null,
   "id": "f213d2c7",
   "metadata": {},
   "outputs": [],
   "source": [
    "arr1.flatten()"
   ]
  },
  {
   "cell_type": "markdown",
   "id": "851f0a60",
   "metadata": {},
   "source": [
    "#### Splitting Arrays"
   ]
  },
  {
   "cell_type": "code",
   "execution_count": null,
   "id": "7eca3158",
   "metadata": {},
   "outputs": [],
   "source": [
    "arr = np.array([1, 2, 3, 4, 5, 6])\n",
    "arr"
   ]
  },
  {
   "cell_type": "code",
   "execution_count": null,
   "id": "4ef694b5",
   "metadata": {},
   "outputs": [],
   "source": [
    "np.split(arr, 3)"
   ]
  },
  {
   "cell_type": "code",
   "execution_count": null,
   "id": "c2d2709c",
   "metadata": {},
   "outputs": [],
   "source": [
    "arr2 = np.array([[1, 2, 3, 4, 5, 6], \n",
    "                [7, 8, 9, 10, 11, 12]])\n",
    "arr2"
   ]
  },
  {
   "cell_type": "code",
   "execution_count": null,
   "id": "d026c3f0",
   "metadata": {},
   "outputs": [],
   "source": [
    "np.hsplit(arr2, 3)"
   ]
  },
  {
   "cell_type": "code",
   "execution_count": null,
   "id": "33eda152",
   "metadata": {},
   "outputs": [],
   "source": [
    "np.vsplit(arr2, 2)"
   ]
  },
  {
   "cell_type": "markdown",
   "id": "9c05a98e",
   "metadata": {},
   "source": [
    "#### Searching in Array"
   ]
  },
  {
   "cell_type": "code",
   "execution_count": null,
   "id": "2e638dd9",
   "metadata": {},
   "outputs": [],
   "source": [
    "a1"
   ]
  },
  {
   "cell_type": "code",
   "execution_count": null,
   "id": "4ca64340",
   "metadata": {},
   "outputs": [],
   "source": [
    "np.where(a1 == 7)"
   ]
  },
  {
   "cell_type": "code",
   "execution_count": null,
   "id": "a9734cb9",
   "metadata": {},
   "outputs": [],
   "source": [
    "a3 = np.array([1, 3, 5, 6, 3, 7, 1])\n",
    "a3"
   ]
  },
  {
   "cell_type": "code",
   "execution_count": null,
   "id": "e087ecdd",
   "metadata": {},
   "outputs": [],
   "source": [
    "np.where(a3 == 3)"
   ]
  },
  {
   "cell_type": "code",
   "execution_count": null,
   "id": "8f48071c",
   "metadata": {},
   "outputs": [],
   "source": [
    "np.where(a3 > 3)"
   ]
  },
  {
   "cell_type": "code",
   "execution_count": null,
   "id": "1897679a",
   "metadata": {},
   "outputs": [],
   "source": [
    "arr1"
   ]
  },
  {
   "cell_type": "code",
   "execution_count": null,
   "id": "02653776",
   "metadata": {},
   "outputs": [],
   "source": [
    "np.where(arr1 == 5)"
   ]
  },
  {
   "cell_type": "code",
   "execution_count": null,
   "id": "7b698988",
   "metadata": {},
   "outputs": [],
   "source": [
    "arr3 = np.array([[1, 2, 3], [2, 5, 7], [4, 5, 2]])\n",
    "arr3"
   ]
  },
  {
   "cell_type": "code",
   "execution_count": null,
   "id": "99467f55",
   "metadata": {},
   "outputs": [],
   "source": [
    "np.where(arr3 == 2)"
   ]
  },
  {
   "cell_type": "markdown",
   "id": "7597c772",
   "metadata": {},
   "source": [
    "#### Sorting of Array"
   ]
  },
  {
   "cell_type": "code",
   "execution_count": null,
   "id": "445ae017",
   "metadata": {},
   "outputs": [],
   "source": [
    "a1"
   ]
  },
  {
   "cell_type": "code",
   "execution_count": null,
   "id": "e1d5b6e1",
   "metadata": {},
   "outputs": [],
   "source": [
    "np.sort(a1)"
   ]
  },
  {
   "cell_type": "code",
   "execution_count": null,
   "id": "6b0f1f78",
   "metadata": {},
   "outputs": [],
   "source": [
    "# Find how to sort in descending order"
   ]
  },
  {
   "cell_type": "code",
   "execution_count": null,
   "id": "1d6e30b5",
   "metadata": {},
   "outputs": [],
   "source": [
    "arr3"
   ]
  },
  {
   "cell_type": "code",
   "execution_count": null,
   "id": "dde71173",
   "metadata": {},
   "outputs": [],
   "source": [
    "np.sort(arr3)"
   ]
  },
  {
   "cell_type": "code",
   "execution_count": null,
   "id": "cbdd9f25",
   "metadata": {},
   "outputs": [],
   "source": [
    "# Find how to sort in descending order\n",
    "# Find how to sort col-wise & row-wise"
   ]
  },
  {
   "cell_type": "markdown",
   "id": "5d9b4c5e",
   "metadata": {},
   "source": [
    "#### Aggregating & Statistical Functions"
   ]
  },
  {
   "cell_type": "code",
   "execution_count": null,
   "id": "77d7635d",
   "metadata": {},
   "outputs": [],
   "source": [
    "a1"
   ]
  },
  {
   "cell_type": "code",
   "execution_count": null,
   "id": "c47b82cf",
   "metadata": {},
   "outputs": [],
   "source": [
    "np.sum(a1)"
   ]
  },
  {
   "cell_type": "code",
   "execution_count": null,
   "id": "2cf1f702",
   "metadata": {},
   "outputs": [],
   "source": [
    "np.mean(a1)"
   ]
  },
  {
   "cell_type": "code",
   "execution_count": null,
   "id": "a69cce6d",
   "metadata": {},
   "outputs": [],
   "source": [
    "np.median(a1)"
   ]
  },
  {
   "cell_type": "code",
   "execution_count": null,
   "id": "81e82051",
   "metadata": {},
   "outputs": [],
   "source": [
    "np.max(a1)"
   ]
  },
  {
   "cell_type": "code",
   "execution_count": null,
   "id": "7df2cf98",
   "metadata": {},
   "outputs": [],
   "source": [
    "np.min(a1)"
   ]
  },
  {
   "cell_type": "code",
   "execution_count": null,
   "id": "a118af39",
   "metadata": {},
   "outputs": [],
   "source": [
    "np.std(a1)"
   ]
  },
  {
   "cell_type": "code",
   "execution_count": null,
   "id": "59e5e420",
   "metadata": {},
   "outputs": [],
   "source": [
    "np.var(a1)"
   ]
  },
  {
   "cell_type": "code",
   "execution_count": null,
   "id": "314b1f53",
   "metadata": {},
   "outputs": [],
   "source": [
    "arr4 = np.array([[1, 2, 3], [4, 5, 6]])\n",
    "arr4"
   ]
  },
  {
   "cell_type": "code",
   "execution_count": null,
   "id": "64ef59c3",
   "metadata": {},
   "outputs": [],
   "source": [
    "np.sum(arr4)"
   ]
  },
  {
   "cell_type": "code",
   "execution_count": null,
   "id": "7a0b2ba2",
   "metadata": {},
   "outputs": [],
   "source": [
    "np.sum(arr4, axis=1)    # Row-wise sum"
   ]
  },
  {
   "cell_type": "code",
   "execution_count": null,
   "id": "fef5f583",
   "metadata": {},
   "outputs": [],
   "source": [
    "np.sum(arr4, axis=0)    # Col-wise sum"
   ]
  },
  {
   "cell_type": "code",
   "execution_count": null,
   "id": "e35a5c13",
   "metadata": {},
   "outputs": [],
   "source": []
  }
 ],
 "metadata": {
  "kernelspec": {
   "display_name": "Python 3",
   "language": "python",
   "name": "python3"
  },
  "language_info": {
   "codemirror_mode": {
    "name": "ipython",
    "version": 3
   },
   "file_extension": ".py",
   "mimetype": "text/x-python",
   "name": "python",
   "nbconvert_exporter": "python",
   "pygments_lexer": "ipython3",
   "version": "3.13.2"
  }
 },
 "nbformat": 4,
 "nbformat_minor": 5
}
