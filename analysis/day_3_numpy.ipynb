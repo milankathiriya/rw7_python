{
 "cells": [
  {
   "cell_type": "markdown",
   "id": "62956378",
   "metadata": {},
   "source": [
    "### Filtering Array (Boolean Indexing)"
   ]
  },
  {
   "cell_type": "code",
   "execution_count": 1,
   "id": "b5e9654b",
   "metadata": {},
   "outputs": [],
   "source": [
    "import numpy as np"
   ]
  },
  {
   "cell_type": "code",
   "execution_count": 2,
   "id": "13935e15",
   "metadata": {},
   "outputs": [],
   "source": [
    "arr = np.array([10, 15, 20, 25, 30])"
   ]
  },
  {
   "cell_type": "code",
   "execution_count": 3,
   "id": "977f2286",
   "metadata": {},
   "outputs": [
    {
     "data": {
      "text/plain": [
       "array([10, 15, 20, 25, 30])"
      ]
     },
     "execution_count": 3,
     "metadata": {},
     "output_type": "execute_result"
    }
   ],
   "source": [
    "arr"
   ]
  },
  {
   "cell_type": "code",
   "execution_count": 4,
   "id": "c3d4aa56",
   "metadata": {},
   "outputs": [
    {
     "data": {
      "text/plain": [
       "[True, False, True, True, False]"
      ]
     },
     "execution_count": 4,
     "metadata": {},
     "output_type": "execute_result"
    }
   ],
   "source": [
    "l = [True, False, True, True, False]\n",
    "l"
   ]
  },
  {
   "cell_type": "code",
   "execution_count": 6,
   "id": "9285e7e9",
   "metadata": {},
   "outputs": [
    {
     "data": {
      "text/plain": [
       "array([10, 20, 25])"
      ]
     },
     "execution_count": 6,
     "metadata": {},
     "output_type": "execute_result"
    }
   ],
   "source": [
    "arr[l]"
   ]
  },
  {
   "cell_type": "code",
   "execution_count": 7,
   "id": "00281dae",
   "metadata": {},
   "outputs": [
    {
     "data": {
      "text/plain": [
       "array([10, 15, 20, 25, 30])"
      ]
     },
     "execution_count": 7,
     "metadata": {},
     "output_type": "execute_result"
    }
   ],
   "source": [
    "arr"
   ]
  },
  {
   "cell_type": "code",
   "execution_count": 8,
   "id": "e29dcc55",
   "metadata": {},
   "outputs": [
    {
     "data": {
      "text/plain": [
       "array([ True, False,  True, False,  True])"
      ]
     },
     "execution_count": 8,
     "metadata": {},
     "output_type": "execute_result"
    }
   ],
   "source": [
    "l2 = (arr%2 == 0)\n",
    "l2"
   ]
  },
  {
   "cell_type": "code",
   "execution_count": 9,
   "id": "0df645da",
   "metadata": {},
   "outputs": [
    {
     "data": {
      "text/plain": [
       "array([10, 20, 30])"
      ]
     },
     "execution_count": 9,
     "metadata": {},
     "output_type": "execute_result"
    }
   ],
   "source": [
    "arr[l2]"
   ]
  },
  {
   "cell_type": "code",
   "execution_count": 10,
   "id": "2203cc99",
   "metadata": {},
   "outputs": [
    {
     "data": {
      "text/plain": [
       "array([10, 20, 30])"
      ]
     },
     "execution_count": 10,
     "metadata": {},
     "output_type": "execute_result"
    }
   ],
   "source": [
    "arr[arr%2 == 0]"
   ]
  },
  {
   "cell_type": "code",
   "execution_count": 11,
   "id": "06704363",
   "metadata": {},
   "outputs": [],
   "source": [
    "age = np.array([42, 18, 22, 13, 16])"
   ]
  },
  {
   "cell_type": "code",
   "execution_count": 12,
   "id": "fa1e1d50",
   "metadata": {},
   "outputs": [
    {
     "data": {
      "text/plain": [
       "array([42, 18, 22, 13, 16])"
      ]
     },
     "execution_count": 12,
     "metadata": {},
     "output_type": "execute_result"
    }
   ],
   "source": [
    "age"
   ]
  },
  {
   "cell_type": "code",
   "execution_count": 13,
   "id": "4aeaae00",
   "metadata": {},
   "outputs": [
    {
     "data": {
      "text/plain": [
       "array([42, 22])"
      ]
     },
     "execution_count": 13,
     "metadata": {},
     "output_type": "execute_result"
    }
   ],
   "source": [
    "age[age > 18]"
   ]
  },
  {
   "cell_type": "code",
   "execution_count": 14,
   "id": "b541cae2",
   "metadata": {},
   "outputs": [
    {
     "data": {
      "text/plain": [
       "array([22])"
      ]
     },
     "execution_count": 14,
     "metadata": {},
     "output_type": "execute_result"
    }
   ],
   "source": [
    "age[age == 22]"
   ]
  },
  {
   "cell_type": "code",
   "execution_count": 15,
   "id": "072eb680",
   "metadata": {},
   "outputs": [
    {
     "data": {
      "text/plain": [
       "array([[3, 5, 7],\n",
       "       [1, 2, 9],\n",
       "       [6, 4, 2]])"
      ]
     },
     "execution_count": 15,
     "metadata": {},
     "output_type": "execute_result"
    }
   ],
   "source": [
    "a2 = np.array([[3, 5, 7], [1, 2, 9], [6, 4, 2]])\n",
    "a2"
   ]
  },
  {
   "cell_type": "code",
   "execution_count": 16,
   "id": "f850a5b2",
   "metadata": {},
   "outputs": [],
   "source": [
    "l1 = [True, False, True]"
   ]
  },
  {
   "cell_type": "code",
   "execution_count": 17,
   "id": "a2b313e9",
   "metadata": {},
   "outputs": [
    {
     "data": {
      "text/plain": [
       "array([[3, 5, 7],\n",
       "       [6, 4, 2]])"
      ]
     },
     "execution_count": 17,
     "metadata": {},
     "output_type": "execute_result"
    }
   ],
   "source": [
    "a2[l1]"
   ]
  },
  {
   "cell_type": "markdown",
   "id": "3c233890",
   "metadata": {},
   "source": [
    "### Boolean Mask (Masing Array)"
   ]
  },
  {
   "cell_type": "code",
   "execution_count": 18,
   "id": "807ab2eb",
   "metadata": {},
   "outputs": [
    {
     "data": {
      "text/plain": [
       "array([10, 15, 20, 25, 30])"
      ]
     },
     "execution_count": 18,
     "metadata": {},
     "output_type": "execute_result"
    }
   ],
   "source": [
    "arr"
   ]
  },
  {
   "cell_type": "code",
   "execution_count": 19,
   "id": "ee232994",
   "metadata": {},
   "outputs": [
    {
     "data": {
      "text/plain": [
       "[True, False, True, True, False]"
      ]
     },
     "execution_count": 19,
     "metadata": {},
     "output_type": "execute_result"
    }
   ],
   "source": [
    "l"
   ]
  },
  {
   "cell_type": "code",
   "execution_count": 20,
   "id": "4cec3f68",
   "metadata": {},
   "outputs": [
    {
     "data": {
      "text/plain": [
       "masked_array(data=[--, 15, --, --, 30],\n",
       "             mask=[ True, False,  True,  True, False],\n",
       "       fill_value=999999)"
      ]
     },
     "execution_count": 20,
     "metadata": {},
     "output_type": "execute_result"
    }
   ],
   "source": [
    "np.ma.array(arr, mask=l)    # arr[l]"
   ]
  },
  {
   "cell_type": "code",
   "execution_count": 21,
   "id": "e8e43e98",
   "metadata": {},
   "outputs": [
    {
     "name": "stdout",
     "output_type": "stream",
     "text": [
      "[-- 15 -- 25 --]\n"
     ]
    }
   ],
   "source": [
    "odd_numbers = np.ma.array(arr, mask=arr%2==0)\n",
    "print(odd_numbers)"
   ]
  },
  {
   "cell_type": "markdown",
   "id": "41d51c72",
   "metadata": {},
   "source": [
    "### Reshaping Array"
   ]
  },
  {
   "cell_type": "code",
   "execution_count": 22,
   "id": "71c1509a",
   "metadata": {},
   "outputs": [
    {
     "data": {
      "text/plain": [
       "array([[3, 5, 7],\n",
       "       [1, 2, 9],\n",
       "       [6, 4, 2]])"
      ]
     },
     "execution_count": 22,
     "metadata": {},
     "output_type": "execute_result"
    }
   ],
   "source": [
    "a2"
   ]
  },
  {
   "cell_type": "code",
   "execution_count": 23,
   "id": "66ff7690",
   "metadata": {},
   "outputs": [
    {
     "data": {
      "text/plain": [
       "array([3, 5, 7, 1, 2, 9, 6, 4, 2])"
      ]
     },
     "execution_count": 23,
     "metadata": {},
     "output_type": "execute_result"
    }
   ],
   "source": [
    "a2.flatten()    # Converts Multi-dimensional array into 1D array"
   ]
  },
  {
   "cell_type": "code",
   "execution_count": 24,
   "id": "0739d87c",
   "metadata": {},
   "outputs": [
    {
     "data": {
      "text/plain": [
       "array([3, 5, 7, 1, 2, 9, 6, 4, 2])"
      ]
     },
     "execution_count": 24,
     "metadata": {},
     "output_type": "execute_result"
    }
   ],
   "source": [
    "a2.reshape(-1)    # Converts Multi-dimensional array into 1D array"
   ]
  },
  {
   "cell_type": "code",
   "execution_count": 25,
   "id": "5eba9d41",
   "metadata": {},
   "outputs": [
    {
     "data": {
      "text/plain": [
       "array([3, 5, 7, 1, 2, 9, 6, 4, 2])"
      ]
     },
     "execution_count": 25,
     "metadata": {},
     "output_type": "execute_result"
    }
   ],
   "source": [
    "a2.ravel()    # Converts Multi-dimensional array into 1D array"
   ]
  },
  {
   "cell_type": "code",
   "execution_count": 26,
   "id": "efd11d2d",
   "metadata": {},
   "outputs": [
    {
     "data": {
      "text/plain": [
       "array([ 0,  1,  2,  3,  4,  5,  6,  7,  8,  9, 10, 11])"
      ]
     },
     "execution_count": 26,
     "metadata": {},
     "output_type": "execute_result"
    }
   ],
   "source": [
    "a1d = np.arange(12)\n",
    "a1d"
   ]
  },
  {
   "cell_type": "code",
   "execution_count": 27,
   "id": "9a540be5",
   "metadata": {},
   "outputs": [
    {
     "data": {
      "text/plain": [
       "array([[ 0,  1,  2],\n",
       "       [ 3,  4,  5],\n",
       "       [ 6,  7,  8],\n",
       "       [ 9, 10, 11]])"
      ]
     },
     "execution_count": 27,
     "metadata": {},
     "output_type": "execute_result"
    }
   ],
   "source": [
    "a1d.reshape(4, 3)   # Converts 1D array into Multi-dimensoinal array e.g., 1D to 2D array"
   ]
  },
  {
   "cell_type": "code",
   "execution_count": 28,
   "id": "9971ed27",
   "metadata": {},
   "outputs": [
    {
     "data": {
      "text/plain": [
       "array([[ 0,  1,  2,  3,  4,  5],\n",
       "       [ 6,  7,  8,  9, 10, 11]])"
      ]
     },
     "execution_count": 28,
     "metadata": {},
     "output_type": "execute_result"
    }
   ],
   "source": [
    "a1d.reshape(2, -1)   # -1 means automatically decides the possible dimension"
   ]
  },
  {
   "cell_type": "code",
   "execution_count": 29,
   "id": "06a47941",
   "metadata": {},
   "outputs": [
    {
     "data": {
      "text/plain": [
       "array([[ 0,  1,  2,  3,  4,  5],\n",
       "       [ 6,  7,  8,  9, 10, 11]])"
      ]
     },
     "execution_count": 29,
     "metadata": {},
     "output_type": "execute_result"
    }
   ],
   "source": [
    "a1d.reshape(-1, 6)   # -1 means automatically decides the possible dimension"
   ]
  },
  {
   "cell_type": "code",
   "execution_count": 30,
   "id": "3a8ffa5c",
   "metadata": {},
   "outputs": [
    {
     "data": {
      "text/plain": [
       "array([[ 0,  1,  2],\n",
       "       [ 3,  4,  5],\n",
       "       [ 6,  7,  8],\n",
       "       [ 9, 10, 11]])"
      ]
     },
     "execution_count": 30,
     "metadata": {},
     "output_type": "execute_result"
    }
   ],
   "source": [
    "a1d.reshape(-1, 3)   # -1 means automatically decides the possible dimension"
   ]
  },
  {
   "cell_type": "code",
   "execution_count": 31,
   "id": "aedf9a00",
   "metadata": {},
   "outputs": [
    {
     "data": {
      "text/plain": [
       "array([[[ 0,  1],\n",
       "        [ 2,  3],\n",
       "        [ 4,  5]],\n",
       "\n",
       "       [[ 6,  7],\n",
       "        [ 8,  9],\n",
       "        [10, 11]]])"
      ]
     },
     "execution_count": 31,
     "metadata": {},
     "output_type": "execute_result"
    }
   ],
   "source": [
    "a1d.reshape(2, 3, 2)   # Converts 1D array into Multi-dimensoinal array e.g., 1D to 3D array"
   ]
  },
  {
   "cell_type": "markdown",
   "id": "464ae671",
   "metadata": {},
   "source": [
    "### Broadcasting of Array"
   ]
  },
  {
   "cell_type": "markdown",
   "id": "f4af371e",
   "metadata": {},
   "source": [
    "###### Broadcasting is a powerful mechanism in NumPy that allows array operations between arrays of different shapes without copying data.\n",
    "\n",
    "###### In simple terms: Broadcasting allows you to automatically expand smaller arrays to match the shape of larger arrays during operations like addition, multiplication, etc."
   ]
  },
  {
   "cell_type": "markdown",
   "id": "50aea627",
   "metadata": {},
   "source": [
    "---"
   ]
  },
  {
   "cell_type": "markdown",
   "id": "037e3633",
   "metadata": {},
   "source": [
    "###### **🧠 Why is Broadcasting Needed?**\n",
    "###### When doing arithmetic on arrays, NumPy performs the operation element-wise. But what if the shapes don’t match?\n",
    "\n",
    "###### Instead of throwing an error, broadcasting stretches the smaller array to fit the shape of the larger one — virtually (no memory copy!)."
   ]
  },
  {
   "cell_type": "markdown",
   "id": "781b3e99",
   "metadata": {},
   "source": [
    "###### **📏 Types of Broadcasting**\n",
    "\n",
    "###### 1. Scalar Broadcasting\n",
    "###### 2. Vector Broadcasting\n",
    "###### 3. Matrix Broadcasting"
   ]
  },
  {
   "cell_type": "markdown",
   "id": "ee97f5c3",
   "metadata": {},
   "source": [
    "---"
   ]
  },
  {
   "cell_type": "markdown",
   "id": "2b62c518",
   "metadata": {},
   "source": [
    "##### 🔸 1. Scalar Broadcasting"
   ]
  },
  {
   "cell_type": "markdown",
   "id": "a107fc05",
   "metadata": {},
   "source": [
    "###### A scalar is a single number. When you operate a scalar with an array, the scalar is broadcast to the shape of the array."
   ]
  },
  {
   "cell_type": "code",
   "execution_count": 32,
   "id": "0de626da",
   "metadata": {},
   "outputs": [
    {
     "data": {
      "text/plain": [
       "array([10, 15, 20, 25, 30])"
      ]
     },
     "execution_count": 32,
     "metadata": {},
     "output_type": "execute_result"
    }
   ],
   "source": [
    "arr"
   ]
  },
  {
   "cell_type": "code",
   "execution_count": 34,
   "id": "eb2b26f5",
   "metadata": {},
   "outputs": [],
   "source": [
    "# Scaler => One elemnet array\n",
    "s1 = [3]\n",
    "s2 = 5\n",
    "s3 = np.array([6])"
   ]
  },
  {
   "cell_type": "code",
   "execution_count": 35,
   "id": "9c2c7f62",
   "metadata": {},
   "outputs": [
    {
     "data": {
      "text/plain": [
       "array([15, 20, 25, 30, 35])"
      ]
     },
     "execution_count": 35,
     "metadata": {},
     "output_type": "execute_result"
    }
   ],
   "source": [
    "arr + s2"
   ]
  },
  {
   "cell_type": "code",
   "execution_count": 36,
   "id": "341c8412",
   "metadata": {},
   "outputs": [
    {
     "data": {
      "text/plain": [
       "array([13, 18, 23, 28, 33])"
      ]
     },
     "execution_count": 36,
     "metadata": {},
     "output_type": "execute_result"
    }
   ],
   "source": [
    "arr + s1"
   ]
  },
  {
   "cell_type": "code",
   "execution_count": 37,
   "id": "3b039f2a",
   "metadata": {},
   "outputs": [
    {
     "data": {
      "text/plain": [
       "array([18, 23, 28, 33, 38])"
      ]
     },
     "execution_count": 37,
     "metadata": {},
     "output_type": "execute_result"
    }
   ],
   "source": [
    "arr + 8"
   ]
  },
  {
   "cell_type": "code",
   "execution_count": 38,
   "id": "303a2db9",
   "metadata": {},
   "outputs": [
    {
     "data": {
      "text/plain": [
       "array([16, 21, 26, 31, 36])"
      ]
     },
     "execution_count": 38,
     "metadata": {},
     "output_type": "execute_result"
    }
   ],
   "source": [
    "arr + s3"
   ]
  },
  {
   "cell_type": "markdown",
   "id": "e4023565",
   "metadata": {},
   "source": [
    "---"
   ]
  },
  {
   "cell_type": "markdown",
   "id": "b17a04eb",
   "metadata": {},
   "source": [
    "##### 🔸 2. Vector Broadcasting\n",
    "\n",
    "###### (a) Row Vector Broadcasting (1D)\n",
    "###### (b) Column Vector Broadcasting"
   ]
  },
  {
   "cell_type": "markdown",
   "id": "2ccd1582",
   "metadata": {},
   "source": [
    "---"
   ]
  },
  {
   "cell_type": "markdown",
   "id": "252abe42",
   "metadata": {},
   "source": [
    "###### **(a) Row Vector Broadcasting (1D)**\n",
    "###### A 1D array can be broadcast across each row of a 2D array if shapes are compatible."
   ]
  },
  {
   "cell_type": "code",
   "execution_count": 40,
   "id": "323dd57c",
   "metadata": {},
   "outputs": [
    {
     "name": "stdout",
     "output_type": "stream",
     "text": [
      "[[11 22 33]\n",
      " [14 25 36]]\n"
     ]
    }
   ],
   "source": [
    "a1 = np.array([[1, 2, 3],\n",
    "              [4, 5, 6]])   # shape (2, 3)\n",
    "\n",
    "a2 = np.array([10, 20, 30])  # shape (3,)\n",
    "\n",
    "print(a1 + a2)\n",
    "\n",
    "# a1.shape = (2, 3)\n",
    "# a2.shape = (3,) → broadcast to (2, 3) ➡️ Added to each row"
   ]
  },
  {
   "cell_type": "markdown",
   "id": "9965df56",
   "metadata": {},
   "source": [
    "###### **(b) Column Vector Broadcasting**\n",
    "###### Use reshape() to turn a 1D array into a column vector (n x 1) and broadcast it column-wise."
   ]
  },
  {
   "cell_type": "code",
   "execution_count": 41,
   "id": "a29c971e",
   "metadata": {},
   "outputs": [
    {
     "name": "stdout",
     "output_type": "stream",
     "text": [
      "[[11 12 13]\n",
      " [24 25 26]]\n"
     ]
    }
   ],
   "source": [
    "a1 = np.array([[1, 2, 3],\n",
    "              [4, 5, 6]])\n",
    "\n",
    "# a2 = np.array([[10], [20]])\n",
    "a2 = np.array([10, 20]).reshape(-1, 1)\n",
    "\n",
    "print(a1 + a2)\n",
    "\n",
    "# a2.shape = (2, 1) → added down each row"
   ]
  },
  {
   "cell_type": "markdown",
   "id": "3876d302",
   "metadata": {},
   "source": [
    "---"
   ]
  },
  {
   "cell_type": "markdown",
   "id": "9162ec6e",
   "metadata": {},
   "source": [
    "##### 🔸 3. Matrix Broadcasting\n",
    "\n",
    "###### Broadcasting happens between matrices of different shapes if they satisfy broadcasting rules.\n",
    "\n",
    "###### **✅ Rules:**\n",
    "###### Compare shapes from right to left\n",
    "\n",
    "###### Dimensions are compatible if:\n",
    "- ###### Same, or\n",
    "- ###### One is 1"
   ]
  },
  {
   "cell_type": "code",
   "execution_count": 43,
   "id": "a9ca89b9",
   "metadata": {},
   "outputs": [
    {
     "name": "stdout",
     "output_type": "stream",
     "text": [
      "[[1]\n",
      " [2]]\n",
      "\n",
      "[[10 20 30]]\n",
      "\n",
      "[[11 21 31]\n",
      " [12 22 32]]\n"
     ]
    }
   ],
   "source": [
    "a1 = np.array([[1], [2]])\n",
    "a2 = np.array([[10, 20, 30]])\n",
    "\n",
    "print(a1)\n",
    "print()\n",
    "print(a2)\n",
    "print()\n",
    "\n",
    "a3 = a1 + a2\n",
    "print(a3)\n",
    "\n",
    "# a1 → (2, 1) → expanded across columns\n",
    "# a2 → (1, 3) → expanded across rows\n",
    "# Result shape → (2, 3)"
   ]
  },
  {
   "cell_type": "code",
   "execution_count": 45,
   "id": "a59ca3bc",
   "metadata": {},
   "outputs": [
    {
     "name": "stdout",
     "output_type": "stream",
     "text": [
      "[[1 2]\n",
      " [3 4]]\n",
      "\n",
      "[1 2 3]\n"
     ]
    },
    {
     "ename": "ValueError",
     "evalue": "operands could not be broadcast together with shapes (2,2) (3,) ",
     "output_type": "error",
     "traceback": [
      "\u001b[1;31m---------------------------------------------------------------------------\u001b[0m",
      "\u001b[1;31mValueError\u001b[0m                                Traceback (most recent call last)",
      "Cell \u001b[1;32mIn[45], line 10\u001b[0m\n\u001b[0;32m      7\u001b[0m \u001b[38;5;28mprint\u001b[39m()\n\u001b[0;32m      8\u001b[0m \u001b[38;5;28mprint\u001b[39m(a2)\n\u001b[1;32m---> 10\u001b[0m \u001b[38;5;28mprint\u001b[39m(\u001b[43ma1\u001b[49m\u001b[43m \u001b[49m\u001b[38;5;241;43m+\u001b[39;49m\u001b[43m \u001b[49m\u001b[43ma2\u001b[49m)\n\u001b[0;32m     12\u001b[0m \u001b[38;5;66;03m# ValueError: operands could not be broadcast together with shapes (2,2) (3,)\u001b[39;00m\n\u001b[0;32m     13\u001b[0m \u001b[38;5;66;03m# Shapes (2,2) and (3,) cannot match by any rule.\u001b[39;00m\n",
      "\u001b[1;31mValueError\u001b[0m: operands could not be broadcast together with shapes (2,2) (3,) "
     ]
    }
   ],
   "source": [
    "# ❌ Incompatible Shapes Example:\n",
    "\n",
    "a1 = np.array([[1, 2], [3, 4]])\n",
    "a2 = np.array([1, 2, 3])\n",
    "\n",
    "print(a1)\n",
    "print()\n",
    "print(a2)\n",
    "\n",
    "print(a1 + a2)\n",
    "\n",
    "# ValueError: operands could not be broadcast together with shapes (2,2) (3,)\n",
    "# Shapes (2,2) and (3,) cannot match by any rule."
   ]
  },
  {
   "cell_type": "code",
   "execution_count": 47,
   "id": "52c9d2fc",
   "metadata": {},
   "outputs": [
    {
     "name": "stdout",
     "output_type": "stream",
     "text": [
      "[[2 5 4 1]\n",
      " [6 5 8 9]\n",
      " [3 2 5 4]]\n",
      "\n",
      "[[1 2 3 4]\n",
      " [4 5 6 7]\n",
      " [3 2 1 4]\n",
      " [7 8 5 6]]\n",
      "\n"
     ]
    },
    {
     "ename": "ValueError",
     "evalue": "operands could not be broadcast together with shapes (3,4) (4,4) ",
     "output_type": "error",
     "traceback": [
      "\u001b[1;31m---------------------------------------------------------------------------\u001b[0m",
      "\u001b[1;31mValueError\u001b[0m                                Traceback (most recent call last)",
      "Cell \u001b[1;32mIn[47], line 11\u001b[0m\n\u001b[0;32m      8\u001b[0m \u001b[38;5;28mprint\u001b[39m(a2)\n\u001b[0;32m      9\u001b[0m \u001b[38;5;28mprint\u001b[39m()\n\u001b[1;32m---> 11\u001b[0m a3 \u001b[38;5;241m=\u001b[39m \u001b[43ma1\u001b[49m\u001b[43m \u001b[49m\u001b[38;5;241;43m+\u001b[39;49m\u001b[43m \u001b[49m\u001b[43ma2\u001b[49m\n\u001b[0;32m     13\u001b[0m \u001b[38;5;28mprint\u001b[39m(a3)\n",
      "\u001b[1;31mValueError\u001b[0m: operands could not be broadcast together with shapes (3,4) (4,4) "
     ]
    }
   ],
   "source": [
    "# ❌ Incompatible Shapes Example:\n",
    "\n",
    "a1 = np.array([[2, 5, 4, 1], [6, 5, 8, 9], [3, 2, 5, 4]])\n",
    "a2 = np.array([[1, 2, 3, 4], [4, 5, 6, 7], [3, 2, 1, 4], [7, 8, 5, 6]])\n",
    "\n",
    "print(a1)\n",
    "print()\n",
    "print(a2)\n",
    "print()\n",
    "\n",
    "a3 = a1 + a2\n",
    "\n",
    "print(a3)"
   ]
  },
  {
   "cell_type": "code",
   "execution_count": null,
   "id": "df3fe973",
   "metadata": {},
   "outputs": [],
   "source": []
  }
 ],
 "metadata": {
  "kernelspec": {
   "display_name": "Python 3",
   "language": "python",
   "name": "python3"
  },
  "language_info": {
   "codemirror_mode": {
    "name": "ipython",
    "version": 3
   },
   "file_extension": ".py",
   "mimetype": "text/x-python",
   "name": "python",
   "nbconvert_exporter": "python",
   "pygments_lexer": "ipython3",
   "version": "3.13.2"
  }
 },
 "nbformat": 4,
 "nbformat_minor": 5
}
